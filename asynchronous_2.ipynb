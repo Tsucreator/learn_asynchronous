{
  "nbformat": 4,
  "nbformat_minor": 0,
  "metadata": {
    "colab": {
      "provenance": [],
      "authorship_tag": "ABX9TyODJHuSRJn19Bmqr7+sE9Oc"
    },
    "kernelspec": {
      "name": "python3",
      "display_name": "Python 3"
    },
    "language_info": {
      "name": "python"
    }
  },
  "cells": [
    {
      "cell_type": "markdown",
      "source": [
        "# 非同期関数の実行タスクの管理\n",
        "## タスクとイベントループの概念\n",
        "非同期処理は時間のかかる処理を後回しにすることでその利点を受け取ることができます。ただし、処理の実行順序を適宜入れ替えるには実行順序を管理することができる機能が必要です。この\"実行順序を管理する機能\"が**イベントループ（Event Loop）**です。<br>\n",
        "イベントループでは、実行順序を管理する対象を**タスク（Task）**と呼びます。タスクを作成しイベントループへ登録し、イベントループ内にて処理の順序を割り当て効率的に処理を完遂します。以下にまとめます。\n",
        "- イベントループ (Event Loop): タスクの実行を管理する中心的なコンポーネント。タスクの実行順序を決定し、I/O待ちが発生した場合は他のタスクに処理を切り替える\n",
        "- タスク (Task): コルーチンを実行するためのオブジェクト。イベントループに登録することで、並行実行が可能となる\n",
        "\n",
        "### 実装\n",
        "より具体的な理解につながるよう実装をしていきます。唐突に利用しているメソッドがいくつかありますので簡単な説明を記載します。<br>\n",
        "以下の例では\n",
        "- `asyncio.new_event_loop()`: イベントループ（`new_loop`）を作成\n",
        "- `set_event_loop(new_loop)`: 作成したイベントループのセット（別のループが動いている時、指定したイベントループをアクティブにする）\n",
        "- `create_task`: イベントループにタスクを登録。`create_task`は引数に渡されたコルーチン（awaitableオブジェクト）を、タスクとしてイベントループに登録\n",
        "- `run_until_complete(my_task)`: イベントループ内のタスクが完了するまで実行する"
      ],
      "metadata": {
        "id": "ip0JeBwi-24Z"
      }
    },
    {
      "cell_type": "code",
      "source": [
        "import asyncio\n",
        "\n",
        "# 時間のかかる処理を模擬的に表現\n",
        "async def my_task():\n",
        "    print(\"Task is running\")\n",
        "    await asyncio.sleep(2) # 2秒かかる\n",
        "    print(\"Task is done\")\n",
        "\n",
        "# 明示的にイベントループを作成する\n",
        "new_loop = asyncio.new_event_loop()\n",
        "# 作成したイベントループを実行するようにセットする\n",
        "asyncio.set_event_loop(new_loop)\n",
        "# my_task()を登録\n",
        "my_task = new_loop.create_task(my_task())\n",
        "# イベントループの実行\n",
        "new_loop.run_until_complete(my_task)\n",
        "# イベントループを閉じる\n",
        "new_loop.close()"
      ],
      "metadata": {
        "id": "5rRdUpxPo1a9"
      },
      "execution_count": null,
      "outputs": []
    },
    {
      "cell_type": "code",
      "source": [
        "\"\"\"\n",
        " jupyter notebook用のスクリプト。イベントループの作成はせずに内部のイベントループを明示的に取得して\"作成した\"ものとしています\n",
        " jupyter notebookでは内部のイベントループが実行されており、新しくイベントループを作成すると競合します\n",
        "\"\"\"\n",
        "import asyncio\n",
        "\n",
        "# 時間のかかる処理を模擬的に表現\n",
        "async def my_task():\n",
        "    print(\"Task is running\")\n",
        "    await asyncio.sleep(2) # 2秒かかる\n",
        "    print(\"Task is done\")\n",
        "\n",
        "# get_running_loop()で実行中のイベントループを取得\n",
        "loop = asyncio.get_running_loop()\n",
        "# my_task()を登録\n",
        "my_task = loop.create_task(my_task())\n",
        "# イベントループの実行（run_until_complete()もすでに動いているイベントループと競合するのでエラーとなる）\n",
        "await my_task"
      ],
      "metadata": {
        "id": "qWfZoAo30pPJ"
      },
      "execution_count": null,
      "outputs": []
    },
    {
      "cell_type": "markdown",
      "source": [
        "asyncioライブラリには、`asyncio.run()`というタスク実行関数があります。こちらを用いると明示的にイベントループを取得せずとも、内部的（暗黙的）にイベントループを作成してタスクを管理します。上記のサンプルコード例では、イベントループとタスクの理解をすることを目的としてイベントループを作成しています。<br>\n",
        "また、`asyncio.new_event_loop()`を用いてイベントループを明示的に作成するとき、作成 > イベントループのセット > イベントループを閉じる、という手順となります。`asyncio.run()`ではloopを閉じる処理も不要です。<br>"
      ],
      "metadata": {
        "id": "bqpN5I_Gpgth"
      }
    },
    {
      "cell_type": "markdown",
      "source": [
        "基本的な非同期処理の考え方・実行については以上です。まとめると以下の通りです。\n",
        "- 非同期処理では、イベントループがタスクの実行順序を管理し、効率的な処理を実現する\n",
        "- タスクは非同期処理（コルーチン）を実行するためのオブジェクトであり、イベントループに登録することで並行実行される\n",
        "- asyncio.new_event_loop()でイベントループを作成し、create_taskでタスクを登録する"
      ],
      "metadata": {
        "id": "xUAuTfDR10kb"
      }
    },
    {
      "cell_type": "markdown",
      "source": [
        "## 実装例2（おまけ）\n",
        "サンプルコードがとても簡素なものであったため、もう少し具体的に利用シーンを想定して実装をしてみたいと思います。非同期処理が用いられるケースの一つに、いくつかのリンクにリクエストを送りデータを取得する、といった処理があります。<br>\n",
        "そちらを模擬的に実装してみます。<br>\n",
        "- `https://example.com/1`, `https://example.com/2`, `https://example.com/3`, の3つのurlからデータを取得する\n",
        "- 一つのurlからデータを取得するには3秒必要となる\n",
        "- 同期処理と非同期処理、で実行速度を比較する"
      ],
      "metadata": {
        "id": "asLFeJoA2xAG"
      }
    },
    {
      "cell_type": "code",
      "source": [
        "import asyncio\n",
        "import time\n",
        "\n",
        "\"\"\"同期処理の場合\"\"\"\n",
        "print(\"####同期処理の場合#####\")\n",
        "\n",
        "# urlにアクセスしてデータを取得する処理\n",
        "def fetch_data(url):\n",
        "    print(f\"{url}, からデータを取得中...\")\n",
        "    time.sleep(3)  # データを取得する処理を模擬的に再現（時間がかかる部分）\n",
        "    print(f\"{url}, からのデータ取得が完了\")\n",
        "    return f\"Data from {url}\"\n",
        "\n",
        "def main():\n",
        "    # 対象のurlを設定（今回は模擬的に実装しているので仮のurlを指定）\n",
        "    urls = [\n",
        "        \"https://example.com/1\",\n",
        "        \"https://example.com/2\",\n",
        "        \"https://example.com/3\",\n",
        "    ]\n",
        "\n",
        "    # 時間計測（開始時刻）\n",
        "    start_time = time.time()\n",
        "\n",
        "    # urlごとにタスクリストを作成する\n",
        "    results = []\n",
        "    for url in urls:\n",
        "      result = fetch_data(url)\n",
        "      results.append(result)  # 全てのタスクの完了を待つ\n",
        "\n",
        "    # 時間計測（終了時刻）\n",
        "    end_time = time.time()\n",
        "\n",
        "    print(f\"消費時間: {end_time - start_time:.2f} 秒\")\n",
        "    print(f\"結果: {results}\")\n",
        "\n",
        "if __name__ == \"__main__\":\n",
        "    main()"
      ],
      "metadata": {
        "id": "Mzdn7bmr4omW"
      },
      "execution_count": null,
      "outputs": []
    },
    {
      "cell_type": "code",
      "source": [
        "import asyncio\n",
        "import time\n",
        "\n",
        "\"\"\"非同期処理の場合\"\"\"\n",
        "print(\"####非同期処理の場合#####\")\n",
        "\n",
        "# urlにアクセスしてデータを取得する処理\n",
        "async def fetch_data(url):\n",
        "    print(f\"{url}, からデータを取得中...\")\n",
        "    await asyncio.sleep(3)  # データを取得する処理を模擬的に再現（時間がかかる部分）\n",
        "    print(f\"{url}, からのデータ取得が完了\")\n",
        "    return f\"Data from {url}\"\n",
        "\n",
        "async def main():\n",
        "    # 対象のurlを設定（今回は模擬的に実装しているので仮のurlを指定）\n",
        "    urls = [\n",
        "        \"https://example.com/1\",\n",
        "        \"https://example.com/2\",\n",
        "        \"https://example.com/3\",\n",
        "    ]\n",
        "\n",
        "    # 時間計測（開始時刻）\n",
        "    start_time = time.time()\n",
        "\n",
        "    # get_running_loop()で実行中のイベントループを取得\n",
        "    loop = asyncio.get_running_loop() # 明示的にイベントループを可視化\n",
        "    # urlごとにタスクリストを作成 > イベントループへ登録\n",
        "    tasks = [loop.create_task(fetch_data(url)) for url in urls]\n",
        "    # asyncio.gatherを使って、複数のタスクを同時に実行し、結果を待つ\n",
        "    results = await asyncio.gather(*tasks)\n",
        "\n",
        "    # 時間計測（終了時刻）\n",
        "    end_time = time.time()\n",
        "\n",
        "    print(f\"消費時間: {end_time - start_time:.2f} 秒\")\n",
        "    print(f\"結果: {results}\")\n",
        "\n",
        "if __name__ == \"__main__\":\n",
        "    await main()\n"
      ],
      "metadata": {
        "id": "Chh3qqRYBPsn"
      },
      "execution_count": null,
      "outputs": []
    }
  ]
}